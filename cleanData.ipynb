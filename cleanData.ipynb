{
 "cells": [
  {
   "cell_type": "code",
   "execution_count": 2,
   "metadata": {},
   "outputs": [],
   "source": [
    "import pandas as pd\n",
    "import numpy as np\n",
    "import random"
   ]
  },
  {
   "cell_type": "code",
   "execution_count": 3,
   "metadata": {},
   "outputs": [],
   "source": [
    "with open('rawWords.txt', 'r') as file:\n",
    "    rawWords = file.read().replace('\\n', '')"
   ]
  },
  {
   "cell_type": "code",
   "execution_count": 4,
   "metadata": {},
   "outputs": [
    {
     "name": "stdout",
     "output_type": "stream",
     "text": [
      "901846 que 880533 de 819699 no 611752 a 579239 la 496588 el 455669 es 431626 y 419569 en 384105 lo 3\n"
     ]
    }
   ],
   "source": [
    "print(rawWords[:100]) # the 5k most utilized spanish words according to https://en.wiktionary.org/wiki/User:Matthias_Buchmeier/Spanish_frequency_list-1-5000"
   ]
  },
  {
   "cell_type": "code",
   "execution_count": 5,
   "metadata": {},
   "outputs": [],
   "source": [
    "rawLS = rawWords.split(\" \") # split into a list where the spaces between words and numbers are removed"
   ]
  },
  {
   "cell_type": "code",
   "execution_count": 7,
   "metadata": {},
   "outputs": [],
   "source": [
    "someWeirdNumbers = []\n",
    "index = []\n",
    "words = []\n",
    "\n",
    "# use for loop and modulus to filter out every other item in the list\n",
    "for i,e in enumerate(rawLS):\n",
    "    if ((i%2) != 0): # great trick: 0%2 = 0, 1%2 = 1, 2%2 = 0, 3%2 = 1, etc. \n",
    "        words.append(e)"
   ]
  },
  {
   "cell_type": "code",
   "execution_count": 14,
   "metadata": {},
   "outputs": [
    {
     "name": "stdout",
     "output_type": "stream",
     "text": [
      "['moral', 'doctor', 'afortunado', 'moviendo', 'disparado', 'derechos', 'lento', 'guardaespaldas', 'volveré', 'alemán']\n"
     ]
    }
   ],
   "source": [
    "wordSample = random.sample(words, 1000)\n",
    "print(wordSample[:10])"
   ]
  },
  {
   "cell_type": "code",
   "execution_count": 9,
   "metadata": {},
   "outputs": [],
   "source": [
    "firstHundred = pd.read_csv('firstHundred.csv')"
   ]
  },
  {
   "cell_type": "code",
   "execution_count": 15,
   "metadata": {},
   "outputs": [],
   "source": [
    "firstHundredList = list(firstHundred['orthography'])"
   ]
  },
  {
   "cell_type": "code",
   "execution_count": 17,
   "metadata": {},
   "outputs": [],
   "source": [
    "finalWordSample = []\n",
    "for index, element in enumerate(wordSample):\n",
    "    if element not in firstHundredList:\n",
    "        finalWordSample.append(element)"
   ]
  },
  {
   "cell_type": "code",
   "execution_count": 25,
   "metadata": {},
   "outputs": [],
   "source": [
    "finalWordSampleDict = {\"orthography\": finalWordSample}\n",
    "finalWordSampleDF = pd.DataFrame(finalWordSampleDict)\n",
    "finalWordSampleDF[\"IPA\"] = np.nan\n",
    "finalWordSampleDF.to_csv(\"secondSample.csv\", index=False)"
   ]
  },
  {
   "cell_type": "code",
   "execution_count": 44,
   "metadata": {},
   "outputs": [],
   "source": [
    "# about interactive spreadsheet\n",
    "# https://towardsdatascience.com/interactive-spreadsheets-in-jupyter-32ab6ec0f4ff"
   ]
  },
  {
   "cell_type": "code",
   "execution_count": null,
   "metadata": {},
   "outputs": [],
   "source": [
    "# eventaully write if-else statement that,\n",
    "# if we have the entry in our training set, \n",
    "# it will just take that entry, but otherwise it will use the ML algorithm to detgermine it"
   ]
  }
 ],
 "metadata": {
  "kernelspec": {
   "display_name": "Python 3",
   "language": "python",
   "name": "python3"
  },
  "language_info": {
   "codemirror_mode": {
    "name": "ipython",
    "version": 3
   },
   "file_extension": ".py",
   "mimetype": "text/x-python",
   "name": "python",
   "nbconvert_exporter": "python",
   "pygments_lexer": "ipython3",
   "version": "3.7.3"
  }
 },
 "nbformat": 4,
 "nbformat_minor": 4
}
