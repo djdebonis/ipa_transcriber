{
 "cells": [
  {
   "cell_type": "code",
   "execution_count": 1,
   "metadata": {},
   "outputs": [],
   "source": [
    "import pandas as pd\n",
    "import numpy as np\n",
    "import nltk"
   ]
  },
  {
   "cell_type": "code",
   "execution_count": 2,
   "metadata": {},
   "outputs": [],
   "source": [
    "def writeData(csvDocument, column0, column1):\n",
    "    \"\"\"\n",
    "    Function that reads in a CSV file, then prompts the user to write\n",
    "    to column1 based on the output of column0. The function then writes \n",
    "    the same CSV, thus updating it. \n",
    "    \n",
    "    :csvDocument: a string with filepath to csv document\n",
    "    \n",
    "    :column0: a string w/ the name of the first column (it *must* be the first column/column[0])\n",
    "    :column1: a string w/ the name of the second column (it *must* be the second column)\n",
    "    \n",
    "    \n",
    "    :returns: n/a; however, overwrites the imported CSV\n",
    "    :rtype: n/a; except updated CSV\n",
    "    \"\"\"\n",
    "    \n",
    "    data = pd.read_csv(csvDocument)\n",
    "    \n",
    "    for index, row in data.iterrows():\n",
    "        if (pd.isna(row[1])):\n",
    "            print(\"Word index: \" + str(index))\n",
    "            print(\"Word: \" + row[0]) # row of 0 is equivilent to row named 'orthography'\n",
    "            transcript = input(\"Please enter IPA transcription for the above row\")\n",
    "            if transcript == \"exit\": # exit code out of the loop\n",
    "                break\n",
    "    \n",
    "            else:\n",
    "                data.loc[index, column1] = transcript\n",
    "                # super helpful important link about copies and views in pandas:\n",
    "                # (came from an error message)\n",
    "                # https://pandas.pydata.org/pandas-docs/stable/user_guide/indexing.html#returning-a-view-versus-a-copy\n",
    "                data.to_csv(csvDocument, index=False) # write to the file every time\n",
    "                \n",
    "        else:\n",
    "            continue # if it already has a value, no need to rewrite!\n",
    "        \n",
    "        "
   ]
  },
  {
   "cell_type": "code",
   "execution_count": 5,
   "metadata": {},
   "outputs": [
    {
     "name": "stdout",
     "output_type": "stream",
     "text": [
      "Word index: 1\n",
      "Word: doctor\n"
     ]
    },
    {
     "name": "stdin",
     "output_type": "stream",
     "text": [
      "Please enter IPA transcription for the above row exit\n"
     ]
    }
   ],
   "source": [
    "# writeData('firstHundred.csv', 'orthorgraphy', 'IPA')\n",
    "writeData(\"secondSample.csv\", \"orthography\", \"IPA\")"
   ]
  },
  {
   "cell_type": "code",
   "execution_count": null,
   "metadata": {},
   "outputs": [],
   "source": []
  }
 ],
 "metadata": {
  "kernelspec": {
   "display_name": "Python 3",
   "language": "python",
   "name": "python3"
  },
  "language_info": {
   "codemirror_mode": {
    "name": "ipython",
    "version": 3
   },
   "file_extension": ".py",
   "mimetype": "text/x-python",
   "name": "python",
   "nbconvert_exporter": "python",
   "pygments_lexer": "ipython3",
   "version": "3.7.3"
  }
 },
 "nbformat": 4,
 "nbformat_minor": 4
}
