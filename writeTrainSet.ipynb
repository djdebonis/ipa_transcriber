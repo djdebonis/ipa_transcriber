{
 "cells": [
  {
   "cell_type": "code",
   "execution_count": 2,
   "metadata": {},
   "outputs": [],
   "source": [
    "import pandas as pd\n",
    "import numpy as np\n",
    "import nltk"
   ]
  },
  {
   "cell_type": "code",
   "execution_count": 38,
   "metadata": {},
   "outputs": [],
   "source": [
    "def writeData(csvDocument, column1, column2):\n",
    "    \n",
    "    data = pd.read_csv(csvDocument)\n",
    "    \n",
    "    for index, row in data.iterrows():\n",
    "        if (pd.isna(row[1])):\n",
    "            print(\"Word index: \" + str(index))\n",
    "            print(\"Word: \" + row[0]) # row of 0 is equivilent to row named 'orthography'\n",
    "            transcript = input(\"Please enter IPA transcription for the above row\")\n",
    "            if transcript == \"exit\": # exit code out of the loop\n",
    "                break\n",
    "            else:\n",
    "                data.loc[index, column2] = transcript\n",
    "                # super helpful important link about copies and views in pandas:\n",
    "                # (came from an error message)\n",
    "                # https://pandas.pydata.org/pandas-docs/stable/user_guide/indexing.html#returning-a-view-versus-a-copy\n",
    "                data.to_csv(csvDocument, index=False) # write to the file every time\n",
    "                \n",
    "        else:\n",
    "            continue # if it already has a value, no need to rewrite!\n",
    "        \n",
    "        "
   ]
  },
  {
   "cell_type": "code",
   "execution_count": 44,
   "metadata": {},
   "outputs": [
    {
     "name": "stdout",
     "output_type": "stream",
     "text": [
      "Word index: 2\n",
      "Word: pensabas\n"
     ]
    },
    {
     "name": "stdin",
     "output_type": "stream",
     "text": [
      "Please enter IPA transcription for the above row pen-'sa-βas\n"
     ]
    },
    {
     "name": "stdout",
     "output_type": "stream",
     "text": [
      "Word index: 3\n",
      "Word: calidad\n"
     ]
    },
    {
     "name": "stdin",
     "output_type": "stream",
     "text": [
      "Please enter IPA transcription for the above row kal-'i-ðað\n"
     ]
    },
    {
     "name": "stdout",
     "output_type": "stream",
     "text": [
      "Word index: 4\n",
      "Word: parecido\n"
     ]
    },
    {
     "name": "stdin",
     "output_type": "stream",
     "text": [
      "Please enter IPA transcription for the above row paɾ-e-'si-ðo\n"
     ]
    },
    {
     "name": "stdout",
     "output_type": "stream",
     "text": [
      "Word index: 5\n",
      "Word: será\n"
     ]
    },
    {
     "name": "stdin",
     "output_type": "stream",
     "text": [
      "Please enter IPA transcription for the above row se-'ɾa\n"
     ]
    },
    {
     "name": "stdout",
     "output_type": "stream",
     "text": [
      "Word index: 6\n",
      "Word: deberías\n"
     ]
    },
    {
     "name": "stdin",
     "output_type": "stream",
     "text": [
      "Please enter IPA transcription for the above row de-βe-'ɾi-as\n"
     ]
    },
    {
     "name": "stdout",
     "output_type": "stream",
     "text": [
      "Word index: 7\n",
      "Word: quinto\n"
     ]
    },
    {
     "name": "stdin",
     "output_type": "stream",
     "text": [
      "Please enter IPA transcription for the above row 'kin̪-to\n"
     ]
    },
    {
     "name": "stdout",
     "output_type": "stream",
     "text": [
      "Word index: 8\n",
      "Word: intentado\n"
     ]
    },
    {
     "name": "stdin",
     "output_type": "stream",
     "text": [
      "Please enter IPA transcription for the above row in̪-ten̪-'ta-ðo\n"
     ]
    },
    {
     "name": "stdout",
     "output_type": "stream",
     "text": [
      "Word index: 9\n",
      "Word: Angeles\n"
     ]
    },
    {
     "name": "stdin",
     "output_type": "stream",
     "text": [
      "Please enter IPA transcription for the above row n/a\n"
     ]
    },
    {
     "name": "stdout",
     "output_type": "stream",
     "text": [
      "Word index: 10\n",
      "Word: crees\n"
     ]
    },
    {
     "name": "stdin",
     "output_type": "stream",
     "text": [
      "Please enter IPA transcription for the above row 'kɾe-es\n"
     ]
    },
    {
     "name": "stdout",
     "output_type": "stream",
     "text": [
      "Word index: 11\n",
      "Word: cargar\n"
     ]
    },
    {
     "name": "stdin",
     "output_type": "stream",
     "text": [
      "Please enter IPA transcription for the above row kaɾ-'ɣaɾ\n"
     ]
    },
    {
     "name": "stdout",
     "output_type": "stream",
     "text": [
      "Word index: 12\n",
      "Word: fascinante\n"
     ]
    },
    {
     "name": "stdin",
     "output_type": "stream",
     "text": [
      "Please enter IPA transcription for the above row fa-si-'nan̪-te\n"
     ]
    },
    {
     "name": "stdout",
     "output_type": "stream",
     "text": [
      "Word index: 13\n",
      "Word: jon\n"
     ]
    },
    {
     "name": "stdin",
     "output_type": "stream",
     "text": [
      "Please enter IPA transcription for the above row 'hon\n"
     ]
    },
    {
     "name": "stdout",
     "output_type": "stream",
     "text": [
      "Word index: 14\n",
      "Word: veré\n"
     ]
    },
    {
     "name": "stdin",
     "output_type": "stream",
     "text": [
      "Please enter IPA transcription for the above row βe-'ɾe\n"
     ]
    },
    {
     "name": "stdout",
     "output_type": "stream",
     "text": [
      "Word index: 15\n",
      "Word: vigila\n"
     ]
    },
    {
     "name": "stdin",
     "output_type": "stream",
     "text": [
      "Please enter IPA transcription for the above row vi-'hi-la\n"
     ]
    },
    {
     "name": "stdout",
     "output_type": "stream",
     "text": [
      "Word index: 16\n",
      "Word: pases\n"
     ]
    },
    {
     "name": "stdin",
     "output_type": "stream",
     "text": [
      "Please enter IPA transcription for the above row 'pa-ses\n"
     ]
    },
    {
     "name": "stdout",
     "output_type": "stream",
     "text": [
      "Word index: 17\n",
      "Word: debió\n"
     ]
    },
    {
     "name": "stdin",
     "output_type": "stream",
     "text": [
      "Please enter IPA transcription for the above row de-'bi̯o\n"
     ]
    },
    {
     "name": "stdout",
     "output_type": "stream",
     "text": [
      "Word index: 18\n",
      "Word: dejando\n"
     ]
    },
    {
     "name": "stdin",
     "output_type": "stream",
     "text": [
      "Please enter IPA transcription for the above row de-'han̪-ðo\n"
     ]
    },
    {
     "name": "stdout",
     "output_type": "stream",
     "text": [
      "Word index: 19\n",
      "Word: acusado\n"
     ]
    },
    {
     "name": "stdin",
     "output_type": "stream",
     "text": [
      "Please enter IPA transcription for the above row a-ku-'san̪-ðo\n"
     ]
    },
    {
     "name": "stdout",
     "output_type": "stream",
     "text": [
      "Word index: 20\n",
      "Word: extraña\n"
     ]
    },
    {
     "name": "stdin",
     "output_type": "stream",
     "text": [
      "Please enter IPA transcription for the above row eks-'tɾa-ɲa\n"
     ]
    },
    {
     "name": "stdout",
     "output_type": "stream",
     "text": [
      "Word index: 21\n",
      "Word: puerta\n"
     ]
    },
    {
     "name": "stdin",
     "output_type": "stream",
     "text": [
      "Please enter IPA transcription for the above row exit\n"
     ]
    }
   ],
   "source": [
    "writeData('firstHundred.csv', 'orthorgraphy', 'IPA')"
   ]
  },
  {
   "cell_type": "code",
   "execution_count": null,
   "metadata": {},
   "outputs": [],
   "source": []
  }
 ],
 "metadata": {
  "kernelspec": {
   "display_name": "Python 3",
   "language": "python",
   "name": "python3"
  },
  "language_info": {
   "codemirror_mode": {
    "name": "ipython",
    "version": 3
   },
   "file_extension": ".py",
   "mimetype": "text/x-python",
   "name": "python",
   "nbconvert_exporter": "python",
   "pygments_lexer": "ipython3",
   "version": "3.7.3"
  }
 },
 "nbformat": 4,
 "nbformat_minor": 4
}
